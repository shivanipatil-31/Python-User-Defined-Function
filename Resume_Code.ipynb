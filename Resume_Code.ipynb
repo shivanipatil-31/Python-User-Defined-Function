{
 "cells": [
  {
   "cell_type": "code",
   "execution_count": 1,
   "metadata": {},
   "outputs": [
    {
     "name": "stdout",
     "output_type": "stream",
     "text": [
      "Name:Shivani Patil\n",
      "Email-id:ssp3197@gmail.com\n",
      "Mob No.:7057814469\n",
      "Heighest Education:M.Sc. Applied Statistics\n",
      "Skills:MS Office, Python, RStudio, Machine Learning, NlP\n",
      "Experience:ML Intern at iAnalyst Infotech\n",
      "Project:Future of Marathi Medium School in pune City\n",
      "\n",
      "\n",
      "Name: Shivani Patil \n",
      "\n",
      "Email_id: ssp3197@gmail.com \n",
      "\n",
      "Mob No.: 7057814469 \n",
      "\n",
      "Heighest Education: M.Sc. Applied Statistics \n",
      "\n",
      "Skills: MS Office, Python, RStudio, Machine Learning, NlP \n",
      "\n",
      "Experience:ML Intern at iAnalyst Infotech \n",
      "\n",
      "Project: Future of Marathi Medium School in pune City\n"
     ]
    }
   ],
   "source": [
    "def CV():\n",
    "    Name=input(\"Name:\")\n",
    "    Email=input(\"Email-id:\")\n",
    "    Mobaile=input(\"Mob No.:\")\n",
    "    Education=input(\"Heighest Education:\")\n",
    "    Skills=input(\"Skills:\")\n",
    "    Experience=input(\"Experience:\")\n",
    "    Project=input(\"Project:\")\n",
    "    print(\"\\n\\nName: Shivani Patil\", \"\\n\\nEmail_id: ssp3197@gmail.com\", \"\\n\\nMob No.: 7057814469\", \n",
    "          \"\\n\\nHeighest Education: M.Sc. Applied Statistics\", \"\\n\\nSkills: MS Office, Python, RStudio, Machine Learning, NlP\",\n",
    "          \"\\n\\nExperience:ML Intern at iAnalyst Infotech\", \"\\n\\nProject: Future of Marathi Medium School in pune City\")\n",
    "CV()    "
   ]
  }
 ],
 "metadata": {
  "kernelspec": {
   "display_name": "Python 3",
   "language": "python",
   "name": "python3"
  },
  "language_info": {
   "codemirror_mode": {
    "name": "ipython",
    "version": 3
   },
   "file_extension": ".py",
   "mimetype": "text/x-python",
   "name": "python",
   "nbconvert_exporter": "python",
   "pygments_lexer": "ipython3",
   "version": "3.8.5"
  }
 },
 "nbformat": 4,
 "nbformat_minor": 4
}
