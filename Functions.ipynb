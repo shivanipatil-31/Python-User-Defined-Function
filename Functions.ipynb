{
 "cells": [
  {
   "cell_type": "code",
   "execution_count": null,
   "metadata": {},
   "outputs": [],
   "source": [
    "def DTS():\n",
    "    \n",
    "    \"\"\" This Fuction Works to Calulate Dstance Time Speed \"\"\"\n",
    "    \n",
    "    print(\"Enter your choice: 1:D, 2:T, 3:S\")\n",
    "    choice=int(input())\n",
    "    print(\"You Select\", choice)\n",
    "    if choice == 1:\n",
    "        T=int(input())\n",
    "        S=int(input())\n",
    "        D=T*S\n",
    "        print(D)\n",
    "    elif choice == 2:\n",
    "        D=int(input())\n",
    "        S=int(input())\n",
    "        T=D/S\n",
    "        print(T)\n",
    "    elif choice == 3:\n",
    "        D=int(input())\n",
    "        T=int(input())\n",
    "        S=D/T\n",
    "        print(S)\n",
    "    else:\n",
    "        print(\"Invalid Statement\")\n",
    "\n",
    "DTS()"
   ]
  },
  {
   "cell_type": "code",
   "execution_count": null,
   "metadata": {},
   "outputs": [],
   "source": [
    "def calculator():\n",
    "    \n",
    "    \"\"\"This Function Works as a Calculator For Two Numbers\"\"\"\n",
    "    \n",
    "    \n",
    "    print(\"Enter youe choice: 1:Add , 2:sub, 3:multiplication, 4:division \")\n",
    "    choice=int(input())\n",
    "    print(\"you select \",choice)\n",
    "    if choice == 1:\n",
    "        n1=int(input())\n",
    "        n2=int(input())\n",
    "        r=n1+n2\n",
    "        print(r)\n",
    "    elif choice == 2:\n",
    "        n1=int(input())\n",
    "        n2=int(input())\n",
    "        r=n1-n2\n",
    "        print(r)\n",
    "    elif choice == 3:\n",
    "        n1=int(input())\n",
    "        n2=int(input())\n",
    "        r=n1*n2\n",
    "        print(r)\n",
    "    elif choice == 4:\n",
    "        n1=int(input())\n",
    "        n2=int(input())\n",
    "        r=n1/n2\n",
    "        print(r)\n",
    "    else:\n",
    "        print(\"Invalis Statement\")\n",
    "        \n",
    "calculator()    "
   ]
  },
  {
   "cell_type": "code",
   "execution_count": null,
   "metadata": {},
   "outputs": [],
   "source": [
    "def DTS():\n",
    "    D=input()\n",
    "    S=input()\n",
    "    T=input()\n",
    "    \n",
    "    if D == \"a\":\n",
    "        print(\"Distance is\", float(S)*float(T))\n",
    "    elif S == \"a\":\n",
    "        print(\"Speed is\", float(D)/float(T))\n",
    "    elif T == \"a\":\n",
    "        print(\"Time is\", float(D)/float(S))\n",
    "    \n",
    "        \n",
    "DTS()"
   ]
  },
  {
   "cell_type": "code",
   "execution_count": null,
   "metadata": {},
   "outputs": [],
   "source": [
    "def calculator():\n",
    "    \n",
    "    \"\"\"This Function Works as a Calculator For Number list\"\"\"\n",
    "    \n",
    "    print(\"Enter youe choice: 1:add , 2:sub, 3:multiplication, 4:division \")\n",
    "    choice=int(input())\n",
    "    print(\"you select \",choice)\n",
    "    s=[18,10,5]\n",
    "    if choice == 1:\n",
    "        def num(list):\n",
    "            add=0\n",
    "            for i in list:\n",
    "                add += i\n",
    "            return add\n",
    "        num(s)\n",
    "        print(s)\n",
    "        \n",
    "    elif choice == 2:\n",
    "        def num(list):\n",
    "            s=[18,10,5]\n",
    "            sub = s[0]\n",
    "            for i in range(len(s)-1):\n",
    "                sub = sub - s[i+1] \n",
    "            print(sub)\n",
    "        num(s)    \n",
    "       \n",
    "        \n",
    "    elif choice == 3:\n",
    "        def num(list):\n",
    "            multiply=1\n",
    "            for i in list:\n",
    "                multiply *= i\n",
    "            return multipy\n",
    "        num(s)\n",
    "        print(s)\n",
    "        \n",
    "    elif choice == 4:\n",
    "        def num(list):\n",
    "            s=[18,10,5]\n",
    "            division = s[0]\n",
    "            for i in range(len(s)-1):\n",
    "                division = division - s[i+1] \n",
    "            print(division)\n",
    "        num(s)    \n",
    "        \n",
    "    else:\n",
    "        print(\"Invalid Statement\")\n",
    "        \n",
    "calculator()"
   ]
  },
  {
   "cell_type": "markdown",
   "metadata": {},
   "source": [
    "# Write a code to get output in following format\n",
    "input(6 5)\n",
    "\n",
    "output(30) OR output(11) OR output(6/5)"
   ]
  },
  {
   "cell_type": "markdown",
   "metadata": {},
   "source": [
    "### For single digit"
   ]
  },
  {
   "cell_type": "code",
   "execution_count": 1,
   "metadata": {},
   "outputs": [
    {
     "name": "stdout",
     "output_type": "stream",
     "text": [
      "Enter Number:5 6\n"
     ]
    },
    {
     "data": {
      "text/plain": [
       "30"
      ]
     },
     "execution_count": 1,
     "metadata": {},
     "output_type": "execute_result"
    }
   ],
   "source": [
    "a=input(\"Enter Number:\")\n",
    "x=int(a[0])\n",
    "y=int(a[2])\n",
    "x*y #(x+y, x/y, x-y)"
   ]
  },
  {
   "cell_type": "markdown",
   "metadata": {},
   "source": [
    "### For two digit"
   ]
  },
  {
   "cell_type": "code",
   "execution_count": 2,
   "metadata": {},
   "outputs": [
    {
     "name": "stdout",
     "output_type": "stream",
     "text": [
      "Enter Number:23 35\n"
     ]
    },
    {
     "data": {
      "text/plain": [
       "805"
      ]
     },
     "execution_count": 2,
     "metadata": {},
     "output_type": "execute_result"
    }
   ],
   "source": [
    "a=input(\"Enter Number:\")\n",
    "x=int(a[0:2])\n",
    "y=int(a[3:6])\n",
    "x*y #(x+y, x/y, x-y)"
   ]
  },
  {
   "cell_type": "markdown",
   "metadata": {},
   "source": [
    "### For multiple digit"
   ]
  },
  {
   "cell_type": "code",
   "execution_count": 8,
   "metadata": {},
   "outputs": [
    {
     "name": "stdout",
     "output_type": "stream",
     "text": [
      "Enter Number:10 20\n",
      "10 20\n",
      "['10', '20']\n",
      "200\n"
     ]
    }
   ],
   "source": [
    "a=input(\"Enter Number:\")\n",
    "print(a)\n",
    "b=a.split()\n",
    "print(b)\n",
    "x=int(b[0])\n",
    "y=int(b[1])\n",
    "print(x*y) #(x+y, x/y, x-y)"
   ]
  }
 ],
 "metadata": {
  "kernelspec": {
   "display_name": "Python 3",
   "language": "python",
   "name": "python3"
  },
  "language_info": {
   "codemirror_mode": {
    "name": "ipython",
    "version": 3
   },
   "file_extension": ".py",
   "mimetype": "text/x-python",
   "name": "python",
   "nbconvert_exporter": "python",
   "pygments_lexer": "ipython3",
   "version": "3.8.5"
  }
 },
 "nbformat": 4,
 "nbformat_minor": 4
}
